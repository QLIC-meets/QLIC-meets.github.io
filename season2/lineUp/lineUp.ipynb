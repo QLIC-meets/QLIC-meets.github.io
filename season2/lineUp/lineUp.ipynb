{
 "cells": [
  {
   "cell_type": "code",
   "execution_count": 134,
   "metadata": {},
   "outputs": [
    {
     "name": "stdout",
     "output_type": "stream",
     "text": [
      "\n",
      "\n",
      "\n"
     ]
    },
    {
     "data": {
      "text/markdown": [
       "**Next Talk** \n",
       " # Shantanav Chakraborty"
      ],
      "text/plain": [
       "<IPython.core.display.Markdown object>"
      ]
     },
     "metadata": {},
     "output_type": "display_data"
    },
    {
     "name": "stdout",
     "output_type": "stream",
     "text": [
      "\n",
      "\n",
      "\n"
     ]
    },
    {
     "data": {
      "text/markdown": [
       "**Next Update** \n",
       " # Nicolas Cerf"
      ],
      "text/plain": [
       "<IPython.core.display.Markdown object>"
      ]
     },
     "metadata": {},
     "output_type": "display_data"
    },
    {
     "name": "stdout",
     "output_type": "stream",
     "text": [
      "\n",
      "\n",
      "\n"
     ]
    }
   ],
   "source": [
    "\n",
    "talk=\"\"\n",
    "update=\"\"\n",
    "while (talk==update):\n",
    "    talk=random.choice(list)\n",
    "    update=random.choice(list)\n",
    "    \n",
    "\n",
    "print(\"\\n\\n\")\n",
    "display(Markdown( \"**Next Talk** \\n # \" + talk))    \n",
    "print(\"\\n\\n\")\n",
    "\n",
    "display(Markdown( \"**Next Update** \\n # \" + update))           \n",
    "print(\"\\n\\n\")\n",
    "\n",
    "    \n",
    "       \n",
    "        "
   ]
  },
  {
   "cell_type": "code",
   "execution_count": 1,
   "metadata": {
    "collapsed": true
   },
   "outputs": [],
   "source": [
    "import time\n",
    "import random\n",
    "from IPython.display import display, Markdown, Latex, clear_output\n",
    "\n",
    "list = [\n",
    "    \"Nicolas Cerf\",\n",
    "    \"Jérémie Roland\",\n",
    "    \"Ognyan Oreshkov\",\n",
    "    \"Raúl Garcia-Patrón Sánchez\",\n",
    "    \"Shantanav Chakraborty\",\n",
    "    \"Leonardo Goncalves Novo\",\n",
    "    \"Uttam Singh\",\n",
    "    \"Mathieu Brandeho\",\n",
    "    \"Matthieu Arnhem\",\n",
    "    \"Atul Singh Arora\",\n",
    "    \"Tom Van Himbeek\",\n",
    "    \"Zacharie Van Herstraeten\",\n",
    "    \"Chrysoula Vlachou\",\n",
    "    \"Siddhartha Das\",\n",
    "    \"Stefano Pironio\"\n",
    "]\n",
    "\n",
    "\n",
    "\n",
    "#Notes for me\n",
    "# from IPython.display import display, Markdown, Latex\n",
    "# display(Markdown('*some markdown* $\\phi$'))\n",
    "# # If you particularly want to display maths, this is more direct:\n",
    "# display(Latex('\\phi'))"
   ]
  },
  {
   "cell_type": "code",
   "execution_count": null,
   "metadata": {
    "collapsed": true
   },
   "outputs": [],
   "source": [
    "#time.sleep(2)\n",
    "\n",
    "#for i in range(1,10):\n",
    "    \n",
    "    talk=\"\"\n",
    "    update=\"\"\n",
    "    while (talk==update):\n",
    "        \n",
    "        talk=random.choice(list)\n",
    "\n",
    "        update=random.choice(list)\n",
    "        \n",
    "    clear_output()\n",
    "    \n",
    "    print(\"\\n\\n\")\n",
    "    display(Markdown( \"**Next Talk** \\n # \" + talk))    \n",
    "    print(\"\\n\\n\")\n",
    "\n",
    "    display(Markdown( \"**Next Update** \\n # \" + update))           \n",
    "    \n",
    "    \n",
    "    print(\"\\n\\n\")\n",
    "    \n",
    "#    time.sleep(0.1)\n",
    "\n",
    "    \n",
    "       \n",
    "        "
   ]
  },
  {
   "cell_type": "code",
   "execution_count": 12,
   "metadata": {},
   "outputs": [
    {
     "name": "stdout",
     "output_type": "stream",
     "text": [
      "\n",
      "\n",
      "\n"
     ]
    },
    {
     "data": {
      "text/markdown": [
       "**Next Talk** \n",
       " # Jérémie Roland"
      ],
      "text/plain": [
       "<IPython.core.display.Markdown object>"
      ]
     },
     "metadata": {},
     "output_type": "display_data"
    },
    {
     "name": "stdout",
     "output_type": "stream",
     "text": [
      "\n",
      "\n",
      "\n"
     ]
    },
    {
     "data": {
      "text/markdown": [
       "**Next Update** \n",
       " # Siddhartha Das"
      ],
      "text/plain": [
       "<IPython.core.display.Markdown object>"
      ]
     },
     "metadata": {},
     "output_type": "display_data"
    },
    {
     "name": "stdout",
     "output_type": "stream",
     "text": [
      "\n",
      "\n",
      "\n"
     ]
    }
   ],
   "source": [
    "talk=\"\"\n",
    "update=\"\"\n",
    "while (talk==update):\n",
    "    talk=random.choice(list)\n",
    "    update=random.choice(list)\n",
    "    \n",
    "\n",
    "print(\"\\n\\n\")\n",
    "display(Markdown( \"**Next Talk** \\n # \" + talk))    \n",
    "print(\"\\n\\n\")\n",
    "\n",
    "display(Markdown( \"**Next Update** \\n # \" + update))           \n",
    "print(\"\\n\\n\")\n",
    "\n",
    "    \n",
    "       "
   ]
  }
 ],
 "metadata": {
  "kernelspec": {
   "display_name": "Python 3",
   "language": "python",
   "name": "python3"
  },
  "language_info": {
   "codemirror_mode": {
    "name": "ipython",
    "version": 3
   },
   "file_extension": ".py",
   "mimetype": "text/x-python",
   "name": "python",
   "nbconvert_exporter": "python",
   "pygments_lexer": "ipython3",
   "version": "3.6.1"
  }
 },
 "nbformat": 4,
 "nbformat_minor": 2
}
